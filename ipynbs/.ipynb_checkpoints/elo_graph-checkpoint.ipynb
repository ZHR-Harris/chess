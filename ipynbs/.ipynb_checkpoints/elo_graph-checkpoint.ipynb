{
 "cells": [
  {
   "cell_type": "code",
   "execution_count": 1,
   "metadata": {},
   "outputs": [],
   "source": [
    "#coding:utf-8\n",
    "%reload_ext autoreload \n",
    "%autoreload 2\n",
    "import os\n",
    "import sys\n",
    "project_basedir = '..'\n",
    "sys.path.append(project_basedir)\n",
    "from config import conf\n",
    "import json\n",
    "from matplotlib import pyplot as plt\n",
    "import pandas as pd\n",
    "import numpy as np\n",
    "plt.style.use('ggplot')\n",
    "%matplotlib inline"
   ]
  },
  {
   "cell_type": "code",
   "execution_count": 2,
   "metadata": {},
   "outputs": [],
   "source": [
    "validate_dirs = os.listdir(conf.validate_dir)\n",
    "validate_dirs = [i for i in validate_dirs if i != '_blank']\n",
    "validate_dirs = sorted(validate_dirs)\n",
    "validate_dirs = [os.path.join(conf.validate_dir,i) for i in validate_dirs]"
   ]
  },
  {
   "cell_type": "code",
   "execution_count": 3,
   "metadata": {},
   "outputs": [],
   "source": [
    "def add_score(onedic,key,point):\n",
    "    onedic.setdefault(key,0)\n",
    "    onedic[key] += point\n",
    "def cal_points(gameplays):\n",
    "    point_dic = {}\n",
    "    for onegame in gameplays:\n",
    "        if onegame[-3:] != 'cbf':\n",
    "            continue\n",
    "        winner = onegame.split('_')[-1].split('.')[0]\n",
    "        player1 = onegame.split('_')[-2].split('-')[0]\n",
    "        player2 = onegame.split('_')[-2].split('-')[1]\n",
    "        assert(winner in ['w','b','peace'])\n",
    "        if winner == 'w':\n",
    "            add_score(point_dic,player1,1)\n",
    "            add_score(point_dic,player2,0)\n",
    "        elif winner == 'b':\n",
    "            add_score(point_dic,player1,0)\n",
    "            add_score(point_dic,player2,1)\n",
    "        elif winner == 'peace':\n",
    "            add_score(point_dic,player1,0.5)\n",
    "            add_score(point_dic,player2,0.5)\n",
    "            add_score(point_dic,'peace',1)\n",
    "        else:\n",
    "            raise\n",
    "    return point_dic"
   ]
  },
  {
   "cell_type": "code",
   "execution_count": 4,
   "metadata": {},
   "outputs": [],
   "source": [
    "game_numbers = [0]\n",
    "game_numbers_identity = [0]\n",
    "elu_points = [0]\n",
    "validate_games = [0]\n",
    "win_rate = [0]\n",
    "dates = ['start']\n",
    "peace_rates = [0]\n",
    "delta_elo = [0]\n",
    "for one_dir in validate_dirs:\n",
    "    one_date = one_dir.split('/')[-1]\n",
    "    gameplays = os.listdir(one_dir)\n",
    "    pointcdic = cal_points(gameplays)\n",
    "    game_num = len(gameplays)\n",
    "    \n",
    "    try:\n",
    "        gn = len(os.listdir(os.path.join(conf.history_selfplay_dir,one_date.replace('_noup',''))))\n",
    "    except:\n",
    "        gn = 0\n",
    "    if game_num == 0:\n",
    "        continue\n",
    "        \n",
    "    old_score = pointcdic.get('oldnet',0) / game_num\n",
    "    peace_rate = pointcdic.get('peace',0) / game_num\n",
    "    \n",
    "    if old_score == 0:\n",
    "        continue\n",
    "        \n",
    "    game_numbers.append(game_numbers[-1] + gn)\n",
    "    game_numbers_identity.append(gn)\n",
    "    \n",
    "    \n",
    "    elo = np.log10(1 / old_score - 1) * 400\n",
    "    if one_date >= '2018-08-27_22-13-25' and one_date < '2018-09-16_17-00-24' and elo < 0:\n",
    "        elo = 0\n",
    "    #elif one_date >= '2018-09-16_17-00-24' and elo < -100:\n",
    "    #    elo = 0\n",
    "    elu_points.append(elu_points[-1] + elo)\n",
    "    validate_games.append(len(gameplays))\n",
    "    win_rate.append(1 - old_score)\n",
    "    dates.append(one_date)\n",
    "    peace_rates.append(peace_rate)\n",
    "    delta_elo.append(elo)"
   ]
  },
  {
   "cell_type": "code",
   "execution_count": 5,
   "metadata": {},
   "outputs": [
    {
     "data": {
      "text/plain": [
       "Text(0, 0.5, 'Elo')"
      ]
     },
     "execution_count": 5,
     "metadata": {},
     "output_type": "execute_result"
    },
    {
     "data": {
      "image/png": "[encoded data removed]",
      "text/plain": [
       "<Figure size 720x720 with 1 Axes>"
      ]
     },
     "metadata": {
      "needs_background": "light"
     },
     "output_type": "display_data"
    }
   ],
   "source": [
    "plt.figure(figsize=(10,10))\n",
    "plt.plot(game_numbers,elu_points,marker='o',mec='r',mfc='w',label='elo')\n",
    "plt.plot(game_numbers,delta_elo,marker='*',ms=10,label='delta elo')\n",
    "plt.legend()\n",
    "plt.xlabel(\"Game played\")\n",
    "plt.ylabel(\"Elo\")"
   ]
  },
  {
   "cell_type": "code",
   "execution_count": 6,
   "metadata": {
    "scrolled": false
   },
   "outputs": [
    {
     "data": {
      "text/html": [
       "<div>\n",
       "<style scoped>\n",
       "    .dataframe tbody tr th:only-of-type {\n",
       "        vertical-align: middle;\n",
       "    }\n",
       "\n",
       "    .dataframe tbody tr th {\n",
       "        vertical-align: top;\n",
       "    }\n",
       "\n",
       "    .dataframe thead th {\n",
       "        text-align: right;\n",
       "    }\n",
       "</style>\n",
       "<table border=\"1\" class=\"dataframe\">\n",
       "  <thead>\n",
       "    <tr style=\"text-align: right;\">\n",
       "      <th></th>\n",
       "      <th>dates</th>\n",
       "      <th>game_numbers</th>\n",
       "      <th>game_numbers_identity</th>\n",
       "      <th>elu_points</th>\n",
       "      <th>validate_games</th>\n",
       "      <th>win_rate</th>\n",
       "      <th>peace_rates</th>\n",
       "      <th>delta_elo</th>\n",
       "      <th>上位情况</th>\n",
       "    </tr>\n",
       "  </thead>\n",
       "  <tbody>\n",
       "    <tr>\n",
       "      <th>0</th>\n",
       "      <td>start</td>\n",
       "      <td>0</td>\n",
       "      <td>0</td>\n",
       "      <td>0</td>\n",
       "      <td>0</td>\n",
       "      <td>0</td>\n",
       "      <td>0</td>\n",
       "      <td>0</td>\n",
       "      <td>上位</td>\n",
       "    </tr>\n",
       "  </tbody>\n",
       "</table>\n",
       "</div>"
      ],
      "text/plain": [
       "   dates  game_numbers  game_numbers_identity  elu_points  validate_games  \\\n",
       "0  start             0                      0           0               0   \n",
       "\n",
       "   win_rate  peace_rates  delta_elo 上位情况  \n",
       "0         0            0          0   上位  "
      ]
     },
     "execution_count": 6,
     "metadata": {},
     "output_type": "execute_result"
    }
   ],
   "source": [
    "pd.DataFrame({\n",
    "    'dates':dates,\n",
    "    'game_numbers':game_numbers,\n",
    "    'game_numbers_identity':game_numbers_identity,\n",
    "    'elu_points':elu_points,\n",
    "    'validate_games':validate_games,\n",
    "    'win_rate':win_rate,\n",
    "    'peace_rates':peace_rates,\n",
    "    'delta_elo':delta_elo,\n",
    "    '上位情况':[('pending' if i is None else \"上位\") for i in delta_elo]\n",
    "})[-10:]"
   ]
  },
  {
   "cell_type": "code",
   "execution_count": 7,
   "metadata": {
    "scrolled": true
   },
   "outputs": [
    {
     "name": "stdout",
     "output_type": "stream",
     "text": [
      "       2\r\n"
     ]
    }
   ],
   "source": [
    "!ls -l ../data/distributed/ | wc -l "
   ]
  },
  {
   "cell_type": "code",
   "execution_count": 8,
   "metadata": {},
   "outputs": [
    {
     "name": "stdout",
     "output_type": "stream",
     "text": [
      "       0\r\n"
     ]
    }
   ],
   "source": [
    "!ls -l ../data/distributed/ | grep peace | wc -l"
   ]
  },
  {
   "cell_type": "code",
   "execution_count": 9,
   "metadata": {},
   "outputs": [
    {
     "name": "stdout",
     "output_type": "stream",
     "text": [
      "       0\r\n"
     ]
    }
   ],
   "source": [
    "!ls -l ../data/distributed/ | grep '_w'| wc -l "
   ]
  },
  {
   "cell_type": "code",
   "execution_count": 10,
   "metadata": {},
   "outputs": [
    {
     "name": "stdout",
     "output_type": "stream",
     "text": [
      "       1\r\n"
     ]
    }
   ],
   "source": [
    "!ls -l ../data/distributed/ | grep '_b'| wc -l "
   ]
  },
  {
   "cell_type": "code",
   "execution_count": 11,
   "metadata": {},
   "outputs": [
    {
     "name": "stdout",
     "output_type": "stream",
     "text": [
      "2021年 2月24日 星期三 01时05分56秒 CST\r\n"
     ]
    }
   ],
   "source": [
    "! date"
   ]
  },
  {
   "cell_type": "code",
   "execution_count": 12,
   "metadata": {
    "scrolled": false
   },
   "outputs": [
    {
     "name": "stdout",
     "output_type": "stream",
     "text": [
      "zsh:1: command not found: nvidia-smi\r\n"
     ]
    }
   ],
   "source": [
    "!nvidia-smi"
   ]
  },
  {
   "cell_type": "code",
   "execution_count": null,
   "metadata": {},
   "outputs": [],
   "source": []
  }
 ],
 "metadata": {
  "kernelspec": {
   "display_name": "Python 3",
   "language": "python",
   "name": "python3"
  },
  "language_info": {
   "codemirror_mode": {
    "name": "ipython",
    "version": 3
   },
   "file_extension": ".py",
   "mimetype": "text/x-python",
   "name": "python",
   "nbconvert_exporter": "python",
   "pygments_lexer": "ipython3",
   "version": "3.7.9"
  }
 },
 "nbformat": 4,
 "nbformat_minor": 2
}
